{
 "cells": [
  {
   "cell_type": "code",
   "execution_count": 55,
   "id": "d61412a4",
   "metadata": {},
   "outputs": [],
   "source": [
    "import pandas as pd"
   ]
  },
  {
   "cell_type": "code",
   "execution_count": 56,
   "id": "61817ee1",
   "metadata": {},
   "outputs": [],
   "source": [
    "#2 Main data types\n",
    "series = pd.Series([\"BMW\",\"Toyota\",\"Honda\"])"
   ]
  },
  {
   "cell_type": "code",
   "execution_count": 57,
   "id": "b00d4300",
   "metadata": {},
   "outputs": [
    {
     "data": {
      "text/plain": [
       "0       BMW\n",
       "1    Toyota\n",
       "2     Honda\n",
       "dtype: object"
      ]
     },
     "execution_count": 57,
     "metadata": {},
     "output_type": "execute_result"
    }
   ],
   "source": [
    "series "
   ]
  },
  {
   "cell_type": "code",
   "execution_count": 58,
   "id": "8de423d1",
   "metadata": {},
   "outputs": [],
   "source": [
    "color = pd.Series([\"Red\",\"Blue\",\"Black\"])"
   ]
  },
  {
   "cell_type": "code",
   "execution_count": 59,
   "id": "a930fcde",
   "metadata": {},
   "outputs": [
    {
     "data": {
      "text/plain": [
       "0      Red\n",
       "1     Blue\n",
       "2    Black\n",
       "dtype: object"
      ]
     },
     "execution_count": 59,
     "metadata": {},
     "output_type": "execute_result"
    }
   ],
   "source": [
    "color"
   ]
  },
  {
   "cell_type": "code",
   "execution_count": 60,
   "id": "c108b516",
   "metadata": {},
   "outputs": [
    {
     "data": {
      "text/html": [
       "<div>\n",
       "<style scoped>\n",
       "    .dataframe tbody tr th:only-of-type {\n",
       "        vertical-align: middle;\n",
       "    }\n",
       "\n",
       "    .dataframe tbody tr th {\n",
       "        vertical-align: top;\n",
       "    }\n",
       "\n",
       "    .dataframe thead th {\n",
       "        text-align: right;\n",
       "    }\n",
       "</style>\n",
       "<table border=\"1\" class=\"dataframe\">\n",
       "  <thead>\n",
       "    <tr style=\"text-align: right;\">\n",
       "      <th></th>\n",
       "      <th>Car</th>\n",
       "      <th>Colour</th>\n",
       "    </tr>\n",
       "  </thead>\n",
       "  <tbody>\n",
       "    <tr>\n",
       "      <th>0</th>\n",
       "      <td>BMW</td>\n",
       "      <td>Red</td>\n",
       "    </tr>\n",
       "    <tr>\n",
       "      <th>1</th>\n",
       "      <td>Toyota</td>\n",
       "      <td>Blue</td>\n",
       "    </tr>\n",
       "    <tr>\n",
       "      <th>2</th>\n",
       "      <td>Honda</td>\n",
       "      <td>Black</td>\n",
       "    </tr>\n",
       "  </tbody>\n",
       "</table>\n",
       "</div>"
      ],
      "text/plain": [
       "      Car Colour\n",
       "0     BMW    Red\n",
       "1  Toyota   Blue\n",
       "2   Honda  Black"
      ]
     },
     "execution_count": 60,
     "metadata": {},
     "output_type": "execute_result"
    }
   ],
   "source": [
    "#DataFrame\n",
    "car_data = pd.DataFrame({\"Car\": series,\"Colour\": color})\n",
    "car_data"
   ]
  },
  {
   "cell_type": "code",
   "execution_count": 62,
   "id": "16e24f9c",
   "metadata": {},
   "outputs": [
    {
     "ename": "FileNotFoundError",
     "evalue": "[Errno 2] No such file or directory: 'car-sales.csv'",
     "output_type": "error",
     "traceback": [
      "\u001b[1;31m---------------------------------------------------------------------------\u001b[0m",
      "\u001b[1;31mFileNotFoundError\u001b[0m                         Traceback (most recent call last)",
      "Cell \u001b[1;32mIn[62], line 2\u001b[0m\n\u001b[0;32m      1\u001b[0m \u001b[38;5;66;03m#import Data\u001b[39;00m\n\u001b[1;32m----> 2\u001b[0m car_sales \u001b[38;5;241m=\u001b[39m \u001b[43mpd\u001b[49m\u001b[38;5;241;43m.\u001b[39;49m\u001b[43mread_csv\u001b[49m\u001b[43m(\u001b[49m\u001b[38;5;124;43m\"\u001b[39;49m\u001b[38;5;124;43mcar-sales.csv\u001b[39;49m\u001b[38;5;124;43m\"\u001b[39;49m\u001b[43m)\u001b[49m\n\u001b[0;32m      3\u001b[0m car_sales\n",
      "File \u001b[1;32mE:\\conda_project\\env\\lib\\site-packages\\pandas\\io\\parsers\\readers.py:912\u001b[0m, in \u001b[0;36mread_csv\u001b[1;34m(filepath_or_buffer, sep, delimiter, header, names, index_col, usecols, dtype, engine, converters, true_values, false_values, skipinitialspace, skiprows, skipfooter, nrows, na_values, keep_default_na, na_filter, verbose, skip_blank_lines, parse_dates, infer_datetime_format, keep_date_col, date_parser, date_format, dayfirst, cache_dates, iterator, chunksize, compression, thousands, decimal, lineterminator, quotechar, quoting, doublequote, escapechar, comment, encoding, encoding_errors, dialect, on_bad_lines, delim_whitespace, low_memory, memory_map, float_precision, storage_options, dtype_backend)\u001b[0m\n\u001b[0;32m    899\u001b[0m kwds_defaults \u001b[38;5;241m=\u001b[39m _refine_defaults_read(\n\u001b[0;32m    900\u001b[0m     dialect,\n\u001b[0;32m    901\u001b[0m     delimiter,\n\u001b[1;32m   (...)\u001b[0m\n\u001b[0;32m    908\u001b[0m     dtype_backend\u001b[38;5;241m=\u001b[39mdtype_backend,\n\u001b[0;32m    909\u001b[0m )\n\u001b[0;32m    910\u001b[0m kwds\u001b[38;5;241m.\u001b[39mupdate(kwds_defaults)\n\u001b[1;32m--> 912\u001b[0m \u001b[38;5;28;01mreturn\u001b[39;00m \u001b[43m_read\u001b[49m\u001b[43m(\u001b[49m\u001b[43mfilepath_or_buffer\u001b[49m\u001b[43m,\u001b[49m\u001b[43m \u001b[49m\u001b[43mkwds\u001b[49m\u001b[43m)\u001b[49m\n",
      "File \u001b[1;32mE:\\conda_project\\env\\lib\\site-packages\\pandas\\io\\parsers\\readers.py:577\u001b[0m, in \u001b[0;36m_read\u001b[1;34m(filepath_or_buffer, kwds)\u001b[0m\n\u001b[0;32m    574\u001b[0m _validate_names(kwds\u001b[38;5;241m.\u001b[39mget(\u001b[38;5;124m\"\u001b[39m\u001b[38;5;124mnames\u001b[39m\u001b[38;5;124m\"\u001b[39m, \u001b[38;5;28;01mNone\u001b[39;00m))\n\u001b[0;32m    576\u001b[0m \u001b[38;5;66;03m# Create the parser.\u001b[39;00m\n\u001b[1;32m--> 577\u001b[0m parser \u001b[38;5;241m=\u001b[39m TextFileReader(filepath_or_buffer, \u001b[38;5;241m*\u001b[39m\u001b[38;5;241m*\u001b[39mkwds)\n\u001b[0;32m    579\u001b[0m \u001b[38;5;28;01mif\u001b[39;00m chunksize \u001b[38;5;129;01mor\u001b[39;00m iterator:\n\u001b[0;32m    580\u001b[0m     \u001b[38;5;28;01mreturn\u001b[39;00m parser\n",
      "File \u001b[1;32mE:\\conda_project\\env\\lib\\site-packages\\pandas\\io\\parsers\\readers.py:1407\u001b[0m, in \u001b[0;36mTextFileReader.__init__\u001b[1;34m(self, f, engine, **kwds)\u001b[0m\n\u001b[0;32m   1404\u001b[0m     \u001b[38;5;28mself\u001b[39m\u001b[38;5;241m.\u001b[39moptions[\u001b[38;5;124m\"\u001b[39m\u001b[38;5;124mhas_index_names\u001b[39m\u001b[38;5;124m\"\u001b[39m] \u001b[38;5;241m=\u001b[39m kwds[\u001b[38;5;124m\"\u001b[39m\u001b[38;5;124mhas_index_names\u001b[39m\u001b[38;5;124m\"\u001b[39m]\n\u001b[0;32m   1406\u001b[0m \u001b[38;5;28mself\u001b[39m\u001b[38;5;241m.\u001b[39mhandles: IOHandles \u001b[38;5;241m|\u001b[39m \u001b[38;5;28;01mNone\u001b[39;00m \u001b[38;5;241m=\u001b[39m \u001b[38;5;28;01mNone\u001b[39;00m\n\u001b[1;32m-> 1407\u001b[0m \u001b[38;5;28mself\u001b[39m\u001b[38;5;241m.\u001b[39m_engine \u001b[38;5;241m=\u001b[39m \u001b[38;5;28;43mself\u001b[39;49m\u001b[38;5;241;43m.\u001b[39;49m\u001b[43m_make_engine\u001b[49m\u001b[43m(\u001b[49m\u001b[43mf\u001b[49m\u001b[43m,\u001b[49m\u001b[43m \u001b[49m\u001b[38;5;28;43mself\u001b[39;49m\u001b[38;5;241;43m.\u001b[39;49m\u001b[43mengine\u001b[49m\u001b[43m)\u001b[49m\n",
      "File \u001b[1;32mE:\\conda_project\\env\\lib\\site-packages\\pandas\\io\\parsers\\readers.py:1661\u001b[0m, in \u001b[0;36mTextFileReader._make_engine\u001b[1;34m(self, f, engine)\u001b[0m\n\u001b[0;32m   1659\u001b[0m     \u001b[38;5;28;01mif\u001b[39;00m \u001b[38;5;124m\"\u001b[39m\u001b[38;5;124mb\u001b[39m\u001b[38;5;124m\"\u001b[39m \u001b[38;5;129;01mnot\u001b[39;00m \u001b[38;5;129;01min\u001b[39;00m mode:\n\u001b[0;32m   1660\u001b[0m         mode \u001b[38;5;241m+\u001b[39m\u001b[38;5;241m=\u001b[39m \u001b[38;5;124m\"\u001b[39m\u001b[38;5;124mb\u001b[39m\u001b[38;5;124m\"\u001b[39m\n\u001b[1;32m-> 1661\u001b[0m \u001b[38;5;28mself\u001b[39m\u001b[38;5;241m.\u001b[39mhandles \u001b[38;5;241m=\u001b[39m \u001b[43mget_handle\u001b[49m\u001b[43m(\u001b[49m\n\u001b[0;32m   1662\u001b[0m \u001b[43m    \u001b[49m\u001b[43mf\u001b[49m\u001b[43m,\u001b[49m\n\u001b[0;32m   1663\u001b[0m \u001b[43m    \u001b[49m\u001b[43mmode\u001b[49m\u001b[43m,\u001b[49m\n\u001b[0;32m   1664\u001b[0m \u001b[43m    \u001b[49m\u001b[43mencoding\u001b[49m\u001b[38;5;241;43m=\u001b[39;49m\u001b[38;5;28;43mself\u001b[39;49m\u001b[38;5;241;43m.\u001b[39;49m\u001b[43moptions\u001b[49m\u001b[38;5;241;43m.\u001b[39;49m\u001b[43mget\u001b[49m\u001b[43m(\u001b[49m\u001b[38;5;124;43m\"\u001b[39;49m\u001b[38;5;124;43mencoding\u001b[39;49m\u001b[38;5;124;43m\"\u001b[39;49m\u001b[43m,\u001b[49m\u001b[43m \u001b[49m\u001b[38;5;28;43;01mNone\u001b[39;49;00m\u001b[43m)\u001b[49m\u001b[43m,\u001b[49m\n\u001b[0;32m   1665\u001b[0m \u001b[43m    \u001b[49m\u001b[43mcompression\u001b[49m\u001b[38;5;241;43m=\u001b[39;49m\u001b[38;5;28;43mself\u001b[39;49m\u001b[38;5;241;43m.\u001b[39;49m\u001b[43moptions\u001b[49m\u001b[38;5;241;43m.\u001b[39;49m\u001b[43mget\u001b[49m\u001b[43m(\u001b[49m\u001b[38;5;124;43m\"\u001b[39;49m\u001b[38;5;124;43mcompression\u001b[39;49m\u001b[38;5;124;43m\"\u001b[39;49m\u001b[43m,\u001b[49m\u001b[43m \u001b[49m\u001b[38;5;28;43;01mNone\u001b[39;49;00m\u001b[43m)\u001b[49m\u001b[43m,\u001b[49m\n\u001b[0;32m   1666\u001b[0m \u001b[43m    \u001b[49m\u001b[43mmemory_map\u001b[49m\u001b[38;5;241;43m=\u001b[39;49m\u001b[38;5;28;43mself\u001b[39;49m\u001b[38;5;241;43m.\u001b[39;49m\u001b[43moptions\u001b[49m\u001b[38;5;241;43m.\u001b[39;49m\u001b[43mget\u001b[49m\u001b[43m(\u001b[49m\u001b[38;5;124;43m\"\u001b[39;49m\u001b[38;5;124;43mmemory_map\u001b[39;49m\u001b[38;5;124;43m\"\u001b[39;49m\u001b[43m,\u001b[49m\u001b[43m \u001b[49m\u001b[38;5;28;43;01mFalse\u001b[39;49;00m\u001b[43m)\u001b[49m\u001b[43m,\u001b[49m\n\u001b[0;32m   1667\u001b[0m \u001b[43m    \u001b[49m\u001b[43mis_text\u001b[49m\u001b[38;5;241;43m=\u001b[39;49m\u001b[43mis_text\u001b[49m\u001b[43m,\u001b[49m\n\u001b[0;32m   1668\u001b[0m \u001b[43m    \u001b[49m\u001b[43merrors\u001b[49m\u001b[38;5;241;43m=\u001b[39;49m\u001b[38;5;28;43mself\u001b[39;49m\u001b[38;5;241;43m.\u001b[39;49m\u001b[43moptions\u001b[49m\u001b[38;5;241;43m.\u001b[39;49m\u001b[43mget\u001b[49m\u001b[43m(\u001b[49m\u001b[38;5;124;43m\"\u001b[39;49m\u001b[38;5;124;43mencoding_errors\u001b[39;49m\u001b[38;5;124;43m\"\u001b[39;49m\u001b[43m,\u001b[49m\u001b[43m \u001b[49m\u001b[38;5;124;43m\"\u001b[39;49m\u001b[38;5;124;43mstrict\u001b[39;49m\u001b[38;5;124;43m\"\u001b[39;49m\u001b[43m)\u001b[49m\u001b[43m,\u001b[49m\n\u001b[0;32m   1669\u001b[0m \u001b[43m    \u001b[49m\u001b[43mstorage_options\u001b[49m\u001b[38;5;241;43m=\u001b[39;49m\u001b[38;5;28;43mself\u001b[39;49m\u001b[38;5;241;43m.\u001b[39;49m\u001b[43moptions\u001b[49m\u001b[38;5;241;43m.\u001b[39;49m\u001b[43mget\u001b[49m\u001b[43m(\u001b[49m\u001b[38;5;124;43m\"\u001b[39;49m\u001b[38;5;124;43mstorage_options\u001b[39;49m\u001b[38;5;124;43m\"\u001b[39;49m\u001b[43m,\u001b[49m\u001b[43m \u001b[49m\u001b[38;5;28;43;01mNone\u001b[39;49;00m\u001b[43m)\u001b[49m\u001b[43m,\u001b[49m\n\u001b[0;32m   1670\u001b[0m \u001b[43m\u001b[49m\u001b[43m)\u001b[49m\n\u001b[0;32m   1671\u001b[0m \u001b[38;5;28;01massert\u001b[39;00m \u001b[38;5;28mself\u001b[39m\u001b[38;5;241m.\u001b[39mhandles \u001b[38;5;129;01mis\u001b[39;00m \u001b[38;5;129;01mnot\u001b[39;00m \u001b[38;5;28;01mNone\u001b[39;00m\n\u001b[0;32m   1672\u001b[0m f \u001b[38;5;241m=\u001b[39m \u001b[38;5;28mself\u001b[39m\u001b[38;5;241m.\u001b[39mhandles\u001b[38;5;241m.\u001b[39mhandle\n",
      "File \u001b[1;32mE:\\conda_project\\env\\lib\\site-packages\\pandas\\io\\common.py:859\u001b[0m, in \u001b[0;36mget_handle\u001b[1;34m(path_or_buf, mode, encoding, compression, memory_map, is_text, errors, storage_options)\u001b[0m\n\u001b[0;32m    854\u001b[0m \u001b[38;5;28;01melif\u001b[39;00m \u001b[38;5;28misinstance\u001b[39m(handle, \u001b[38;5;28mstr\u001b[39m):\n\u001b[0;32m    855\u001b[0m     \u001b[38;5;66;03m# Check whether the filename is to be opened in binary mode.\u001b[39;00m\n\u001b[0;32m    856\u001b[0m     \u001b[38;5;66;03m# Binary mode does not support 'encoding' and 'newline'.\u001b[39;00m\n\u001b[0;32m    857\u001b[0m     \u001b[38;5;28;01mif\u001b[39;00m ioargs\u001b[38;5;241m.\u001b[39mencoding \u001b[38;5;129;01mand\u001b[39;00m \u001b[38;5;124m\"\u001b[39m\u001b[38;5;124mb\u001b[39m\u001b[38;5;124m\"\u001b[39m \u001b[38;5;129;01mnot\u001b[39;00m \u001b[38;5;129;01min\u001b[39;00m ioargs\u001b[38;5;241m.\u001b[39mmode:\n\u001b[0;32m    858\u001b[0m         \u001b[38;5;66;03m# Encoding\u001b[39;00m\n\u001b[1;32m--> 859\u001b[0m         handle \u001b[38;5;241m=\u001b[39m \u001b[38;5;28;43mopen\u001b[39;49m\u001b[43m(\u001b[49m\n\u001b[0;32m    860\u001b[0m \u001b[43m            \u001b[49m\u001b[43mhandle\u001b[49m\u001b[43m,\u001b[49m\n\u001b[0;32m    861\u001b[0m \u001b[43m            \u001b[49m\u001b[43mioargs\u001b[49m\u001b[38;5;241;43m.\u001b[39;49m\u001b[43mmode\u001b[49m\u001b[43m,\u001b[49m\n\u001b[0;32m    862\u001b[0m \u001b[43m            \u001b[49m\u001b[43mencoding\u001b[49m\u001b[38;5;241;43m=\u001b[39;49m\u001b[43mioargs\u001b[49m\u001b[38;5;241;43m.\u001b[39;49m\u001b[43mencoding\u001b[49m\u001b[43m,\u001b[49m\n\u001b[0;32m    863\u001b[0m \u001b[43m            \u001b[49m\u001b[43merrors\u001b[49m\u001b[38;5;241;43m=\u001b[39;49m\u001b[43merrors\u001b[49m\u001b[43m,\u001b[49m\n\u001b[0;32m    864\u001b[0m \u001b[43m            \u001b[49m\u001b[43mnewline\u001b[49m\u001b[38;5;241;43m=\u001b[39;49m\u001b[38;5;124;43m\"\u001b[39;49m\u001b[38;5;124;43m\"\u001b[39;49m\u001b[43m,\u001b[49m\n\u001b[0;32m    865\u001b[0m \u001b[43m        \u001b[49m\u001b[43m)\u001b[49m\n\u001b[0;32m    866\u001b[0m     \u001b[38;5;28;01melse\u001b[39;00m:\n\u001b[0;32m    867\u001b[0m         \u001b[38;5;66;03m# Binary mode\u001b[39;00m\n\u001b[0;32m    868\u001b[0m         handle \u001b[38;5;241m=\u001b[39m \u001b[38;5;28mopen\u001b[39m(handle, ioargs\u001b[38;5;241m.\u001b[39mmode)\n",
      "\u001b[1;31mFileNotFoundError\u001b[0m: [Errno 2] No such file or directory: 'car-sales.csv'"
     ]
    }
   ],
   "source": [
    "#import Data\n",
    "car_sales = pd.read_csv(\"car-sales.csv\")\n",
    "car_sales"
   ]
  },
  {
   "cell_type": "markdown",
   "id": "c3d79487",
   "metadata": {},
   "source": [
    "#![](pandasAnatomy.png)"
   ]
  },
  {
   "cell_type": "markdown",
   "id": "ee1142a2",
   "metadata": {},
   "source": [
    "![](pandasAnatomy.png)"
   ]
  },
  {
   "cell_type": "markdown",
   "id": "bea1e4ec",
   "metadata": {},
   "source": [
    "**Data from URLS**"
   ]
  },
  {
   "cell_type": "code",
   "execution_count": null,
   "id": "8ffb8146",
   "metadata": {},
   "outputs": [],
   "source": [
    "'''In some of the lectures, you'll notice .csv files being imported from file using something like:\n",
    "\n",
    "heart_disease = pd.read_csv(\"data/heart-disease.csv\")\n",
    "\n",
    "This is helpful if you have the data downloaded to your computer or in the same directory as your notebook.\n",
    "\n",
    "But if you don't, another great feature of pandas is being able to import .csv files directly from a URL.\n",
    "\n",
    "For example, for the heart-disease.csv file, using the read_csv() function you can directly import it using the URL from the course GitHub repo:\n",
    "\n",
    "heart_disease = pd.read_csv(\"https://raw.githubusercontent.com/mrdbourke/zero-to-mastery-ml/master/data/heart-disease.csv\")\n",
    "\n",
    "Note: If you're using a link from GitHub, make sure it's in the \"raw\" format, by clicking the raw button.'''"
   ]
  },
  {
   "cell_type": "markdown",
   "id": "7963707a",
   "metadata": {},
   "source": [
    "***[Describing Data with pandas]***"
   ]
  },
  {
   "cell_type": "code",
   "execution_count": null,
   "id": "502eaca8",
   "metadata": {},
   "outputs": [],
   "source": [
    "car_sales"
   ]
  },
  {
   "cell_type": "code",
   "execution_count": null,
   "id": "eb626adb",
   "metadata": {},
   "outputs": [],
   "source": [
    "car_sales.dtypes"
   ]
  },
  {
   "cell_type": "code",
   "execution_count": null,
   "id": "5b48fe97",
   "metadata": {},
   "outputs": [],
   "source": [
    "car_sales[\"Make\"] # or  car_sales.Make Both same"
   ]
  },
  {
   "cell_type": "code",
   "execution_count": null,
   "id": "251ae6a8",
   "metadata": {},
   "outputs": [],
   "source": [
    "car_sales.columns"
   ]
  },
  {
   "cell_type": "code",
   "execution_count": null,
   "id": "9d705eeb",
   "metadata": {},
   "outputs": [],
   "source": [
    "car_sales.describe()\n",
    "#Price is not shown because price is object dtype"
   ]
  },
  {
   "cell_type": "code",
   "execution_count": null,
   "id": "ba7933f9",
   "metadata": {},
   "outputs": [],
   "source": [
    "car_sales['Odometer (KM)'].mean() #selective mean because column has object type"
   ]
  },
  {
   "cell_type": "code",
   "execution_count": null,
   "id": "7d19261c",
   "metadata": {},
   "outputs": [],
   "source": [
    "car_sales['Odometer (KM)'].sum()\n",
    "#car_sales.sum()"
   ]
  },
  {
   "cell_type": "code",
   "execution_count": null,
   "id": "65c98f81",
   "metadata": {},
   "outputs": [],
   "source": [
    "car_sales['Odometer (KM)'].median()"
   ]
  },
  {
   "cell_type": "markdown",
   "id": "4b4ea2f2",
   "metadata": {},
   "source": [
    "**Selecting and Viewing Data with Pandas**"
   ]
  },
  {
   "cell_type": "code",
   "execution_count": null,
   "id": "f7abac4b",
   "metadata": {},
   "outputs": [],
   "source": [
    "car_sales.head(7)"
   ]
  },
  {
   "cell_type": "code",
   "execution_count": null,
   "id": "b8608405",
   "metadata": {},
   "outputs": [],
   "source": [
    "car_sales.tail(3)"
   ]
  },
  {
   "cell_type": "code",
   "execution_count": null,
   "id": "3652e84c",
   "metadata": {},
   "outputs": [],
   "source": [
    "#loc and iloc\n",
    "animals = pd.Series([\"cat\",\"dog\",\"Panda\",\"Lion\",\"deer\"],index = ['A','B','C','D','C'])"
   ]
  },
  {
   "cell_type": "code",
   "execution_count": null,
   "id": "643622e5",
   "metadata": {},
   "outputs": [],
   "source": [
    "animals"
   ]
  },
  {
   "cell_type": "code",
   "execution_count": null,
   "id": "30ccc3e4",
   "metadata": {},
   "outputs": [],
   "source": [
    "animals.loc['C']"
   ]
  },
  {
   "cell_type": "code",
   "execution_count": null,
   "id": "02e8df3d",
   "metadata": {},
   "outputs": [],
   "source": [
    "animals"
   ]
  },
  {
   "cell_type": "code",
   "execution_count": null,
   "id": "97c7b1f7",
   "metadata": {},
   "outputs": [],
   "source": [
    "animals.iloc[3] #Works with integer ONly .iloc works on actual index"
   ]
  },
  {
   "cell_type": "code",
   "execution_count": null,
   "id": "2ae2b0a5",
   "metadata": {},
   "outputs": [],
   "source": [
    "animals.iloc[:3] # same like head tho"
   ]
  },
  {
   "cell_type": "code",
   "execution_count": null,
   "id": "1b4887dd",
   "metadata": {},
   "outputs": [],
   "source": [
    "car_sales[car_sales[\"Make\"] == \"Toyota\"]"
   ]
  },
  {
   "cell_type": "markdown",
   "id": "f47d642e",
   "metadata": {},
   "source": [
    "**Selecting and Viewing Data with Pandas Part 2**"
   ]
  },
  {
   "cell_type": "code",
   "execution_count": null,
   "id": "d8d2e4d7",
   "metadata": {},
   "outputs": [],
   "source": [
    "car_sales"
   ]
  },
  {
   "cell_type": "code",
   "execution_count": null,
   "id": "9d06431e",
   "metadata": {},
   "outputs": [],
   "source": [
    "pd.crosstab(car_sales[\"Make\"],car_sales[\"Doors\"])"
   ]
  },
  {
   "cell_type": "code",
   "execution_count": null,
   "id": "09a04e39",
   "metadata": {},
   "outputs": [],
   "source": []
  },
  {
   "cell_type": "code",
   "execution_count": null,
   "id": "14c5399e",
   "metadata": {},
   "outputs": [],
   "source": [
    "car_sales[\"Odometer (KM)\"].plot()"
   ]
  },
  {
   "cell_type": "code",
   "execution_count": null,
   "id": "d39e3fa2",
   "metadata": {},
   "outputs": [],
   "source": [
    "car_sales[\"Odometer (KM)\"].hist()"
   ]
  },
  {
   "cell_type": "code",
   "execution_count": null,
   "id": "c9b58b5a",
   "metadata": {},
   "outputs": [],
   "source": [
    "car_sales"
   ]
  },
  {
   "cell_type": "code",
   "execution_count": null,
   "id": "c8fbde7f",
   "metadata": {},
   "outputs": [],
   "source": [
    "car_sales['Price'].dtype"
   ]
  },
  {
   "cell_type": "code",
   "execution_count": null,
   "id": "2a1f0e15",
   "metadata": {},
   "outputs": [],
   "source": [
    "# Remove non-numeric characters ('$' and ',') and convert to integer\n",
    "car_sales[\"Price\"] = car_sales[\"Price\"].str.replace('[\\$\\.\\,]', '', regex=True).astype(float).astype(int)"
   ]
  },
  {
   "cell_type": "code",
   "execution_count": null,
   "id": "6d0e248d",
   "metadata": {},
   "outputs": [],
   "source": [
    "car_sales"
   ]
  },
  {
   "cell_type": "code",
   "execution_count": null,
   "id": "6474c695",
   "metadata": {},
   "outputs": [],
   "source": [
    "car_sales[\"Price\"].plot"
   ]
  },
  {
   "cell_type": "markdown",
   "id": "63fe467e",
   "metadata": {},
   "source": [
    "***Manipulating data***"
   ]
  },
  {
   "cell_type": "code",
   "execution_count": null,
   "id": "ad4c12e3",
   "metadata": {},
   "outputs": [],
   "source": [
    "car_sales[\"Make\"].str.lower()"
   ]
  },
  {
   "cell_type": "code",
   "execution_count": null,
   "id": "51ca273f",
   "metadata": {},
   "outputs": [],
   "source": [
    "car_sales"
   ]
  },
  {
   "cell_type": "code",
   "execution_count": null,
   "id": "c3736004",
   "metadata": {},
   "outputs": [],
   "source": [
    "car_sales_missing = pd.read_csv(\"car-sales-missing-data.csv\")"
   ]
  },
  {
   "cell_type": "code",
   "execution_count": null,
   "id": "266d2b6a",
   "metadata": {
    "scrolled": true
   },
   "outputs": [],
   "source": [
    "car_sales_missing"
   ]
  },
  {
   "cell_type": "code",
   "execution_count": null,
   "id": "5d4702bd",
   "metadata": {},
   "outputs": [],
   "source": [
    "#Say u import a csv->df and it has NaN in it-\n",
    "#car_sales_missing[\"Odometer\"] = car_sales_missing[\"Odometer\"].fillna(1) \n",
    "# Instead , we can do \n",
    "car_sales_missing[\"Odometer\"].fillna(car_sales_missing[\"Odometer\"].mean() , inplace = True)"
   ]
  },
  {
   "cell_type": "code",
   "execution_count": null,
   "id": "3ad23cd7",
   "metadata": {},
   "outputs": [],
   "source": [
    "car_sales_missing"
   ]
  },
  {
   "cell_type": "markdown",
   "id": "c979b7ea",
   "metadata": {},
   "source": [
    "**The purpose of `dropna()` is to remove rows with missing (NaN) values from a DataFrame, not to assign values to a column.**\n",
    "\n",
    "If you want to remove missing values in the \"Price\" column and change the actual DataFrame, you should use `.dropna()` with `inplace=True`, like this:\n",
    "\n",
    "```python\n",
    "car_sales_missing.dropna(subset=[\"Price\"], inplace=True)\n"
   ]
  },
  {
   "cell_type": "code",
   "execution_count": null,
   "id": "657e1947",
   "metadata": {},
   "outputs": [],
   "source": [
    "car_sales_missing = pd.read_csv(\"car-sales-missing-data.csv\")\n",
    "car_sales_missing"
   ]
  },
  {
   "cell_type": "code",
   "execution_count": null,
   "id": "50140310",
   "metadata": {},
   "outputs": [],
   "source": [
    "car_sales_dropped = car_sales_missing.dropna()\n",
    "car_sales_dropped"
   ]
  },
  {
   "cell_type": "code",
   "execution_count": null,
   "id": "b114cf3b",
   "metadata": {},
   "outputs": [],
   "source": [
    "car_sales_dropped.to_csv(\"car_sales_dropped.csv\")\n",
    "print(car_sales_dropped)"
   ]
  },
  {
   "cell_type": "markdown",
   "id": "07bbef22",
   "metadata": {},
   "source": [
    "## Manipulating Data 2"
   ]
  },
  {
   "cell_type": "markdown",
   "id": "0e747522",
   "metadata": {},
   "source": [
    "**Columns from Series**"
   ]
  },
  {
   "cell_type": "code",
   "execution_count": null,
   "id": "dbb0d35b",
   "metadata": {},
   "outputs": [],
   "source": [
    "car_sales"
   ]
  },
  {
   "cell_type": "code",
   "execution_count": null,
   "id": "8de88a6a",
   "metadata": {},
   "outputs": [],
   "source": [
    "seat_columns = pd.Series([5,4,3,5,3,5])\n",
    "seat_columns"
   ]
  },
  {
   "cell_type": "code",
   "execution_count": null,
   "id": "4665fcb5",
   "metadata": {},
   "outputs": [],
   "source": [
    "car_sales['Seats'] = seat_columns\n",
    "car_sales"
   ]
  },
  {
   "cell_type": "code",
   "execution_count": null,
   "id": "daeb1992",
   "metadata": {},
   "outputs": [],
   "source": [
    "car_sales['Seats'].fillna(4 , inplace = True )\n",
    "car_sales"
   ]
  },
  {
   "cell_type": "markdown",
   "id": "be048a85",
   "metadata": {},
   "source": [
    "**Columns from Python List**"
   ]
  },
  {
   "cell_type": "code",
   "execution_count": null,
   "id": "11fcfde5",
   "metadata": {},
   "outputs": [],
   "source": [
    "fuel_economy = [ 34,53,23,53,21,23,34,12,45,12]\n",
    "car_sales['Fuel per 10L'] = fuel_economy \n",
    "print(\"SO if Python used then index length shld match\")\n",
    "car_sales"
   ]
  },
  {
   "cell_type": "markdown",
   "id": "e795b713",
   "metadata": {},
   "source": [
    "##### Finding total fuel used by the car"
   ]
  },
  {
   "cell_type": "code",
   "execution_count": null,
   "id": "5f2baabb",
   "metadata": {},
   "outputs": [],
   "source": [
    "car_sales[\"Total Fuel consumed(L)\"] = car_sales['Odometer (KM)'] / 100 * car_sales[\"Fuel per 10L\"]\n",
    "#car_sales[\"Total Fuel used(L)\"] = car_sales['Odometer (KM)'] / 100 * car_sales[\"Fuel per 10L\"]\n",
    "car_sales"
   ]
  },
  {
   "cell_type": "markdown",
   "id": "8d4f9a60",
   "metadata": {},
   "source": [
    "**Converting seats from float to int using regex**"
   ]
  },
  {
   "cell_type": "code",
   "execution_count": null,
   "id": "89595b18",
   "metadata": {},
   "outputs": [],
   "source": [
    "car_sales['Seats'] = car_sales[\"Seats\"].astype(float).replace('[\\.]').astype(int)\n",
    "car_sales"
   ]
  },
  {
   "cell_type": "markdown",
   "id": "8fdc4903",
   "metadata": {},
   "source": [
    "**Deleting a column**"
   ]
  },
  {
   "cell_type": "code",
   "execution_count": null,
   "id": "fc03a13b",
   "metadata": {},
   "outputs": [],
   "source": [
    "car_sales.drop(\"Total Fuel consumed(L)\" , axis = 1 , inplace = True)\n",
    "car_sales"
   ]
  },
  {
   "cell_type": "markdown",
   "id": "b9262791",
   "metadata": {},
   "source": [
    "## Manipulating Data 3"
   ]
  },
  {
   "cell_type": "markdown",
   "id": "38e2cab9",
   "metadata": {},
   "source": [
    "**Shuffling indexes is important later on for core ML so doing it using `.sample(frac = 1) `**"
   ]
  },
  {
   "cell_type": "code",
   "execution_count": null,
   "id": "a3bb99be",
   "metadata": {},
   "outputs": [],
   "source": [
    "car_sales[\"Passed Safety Test\"] = True \n",
    "car_sales"
   ]
  },
  {
   "cell_type": "code",
   "execution_count": null,
   "id": "c0c7a020",
   "metadata": {},
   "outputs": [],
   "source": [
    "car_sales.dtypes"
   ]
  },
  {
   "cell_type": "code",
   "execution_count": null,
   "id": "d25b4a9f",
   "metadata": {},
   "outputs": [],
   "source": [
    "car_shuffled = car_sales.sample(frac = 1)\n",
    "car_shuffled"
   ]
  },
  {
   "cell_type": "code",
   "execution_count": null,
   "id": "76fa1bd2",
   "metadata": {},
   "outputs": [],
   "source": [
    "car_shuffled.sample(frac=0.2) \n",
    "car_shuffled"
   ]
  },
  {
   "cell_type": "code",
   "execution_count": null,
   "id": "f89fd64a",
   "metadata": {},
   "outputs": [],
   "source": [
    "car_shuffled.reset_index(inplace = True )\n",
    "car_shuffled"
   ]
  },
  {
   "cell_type": "code",
   "execution_count": null,
   "id": "9b638d7e",
   "metadata": {},
   "outputs": [],
   "source": [
    "car_shuffled.reset_index(drop = True , inplace =True)\n",
    "car_shuffled"
   ]
  },
  {
   "cell_type": "markdown",
   "id": "4fa60fff",
   "metadata": {},
   "source": [
    "**Converting the Km to Miles jsut to understand `.appply` and `lamda` function**"
   ]
  },
  {
   "cell_type": "code",
   "execution_count": null,
   "id": "1c5f0d5a",
   "metadata": {},
   "outputs": [],
   "source": [
    "car_shuffled['Odometer (KM)'] = car_shuffled['Odometer (KM)'].apply(lambda x : x /1.6)\n",
    "car_shuffled"
   ]
  },
  {
   "cell_type": "code",
   "execution_count": null,
   "id": "8148c155",
   "metadata": {},
   "outputs": [],
   "source": []
  }
 ],
 "metadata": {
  "kernelspec": {
   "display_name": "Python 3 (ipykernel)",
   "language": "python",
   "name": "python3"
  },
  "language_info": {
   "codemirror_mode": {
    "name": "ipython",
    "version": 3
   },
   "file_extension": ".py",
   "mimetype": "text/x-python",
   "name": "python",
   "nbconvert_exporter": "python",
   "pygments_lexer": "ipython3",
   "version": "3.10.12"
  }
 },
 "nbformat": 4,
 "nbformat_minor": 5
}
