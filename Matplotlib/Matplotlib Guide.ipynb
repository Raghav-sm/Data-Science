{
 "cells": [
  {
   "cell_type": "markdown",
   "id": "04f021df",
   "metadata": {},
   "source": [
    "# When to use ,which plot."
   ]
  },
  {
   "cell_type": "markdown",
   "id": "319f4d33",
   "metadata": {},
   "source": [
    " ### Raghav   \n",
    "- Lineplot \n",
    "- Bar  \n",
    "- scatterplot\n",
    "- Boxplot\n",
    "- colormaps\n",
    "- kdeplot"
   ]
  },
  {
   "cell_type": "markdown",
   "id": "531ac722",
   "metadata": {},
   "source": [
    "## MAnju\n",
    "- Pie\n",
    "- Histogram\n",
    "- Heatmaps\n",
    "- Countplot\n",
    "- distplot\n",
    "- pairplot\n"
   ]
  },
  {
   "cell_type": "code",
   "execution_count": 1,
   "id": "cde5657a",
   "metadata": {},
   "outputs": [],
   "source": [
    "import matplotlib.pyplot as plt\n",
    "import seaborn as sns"
   ]
  },
  {
   "cell_type": "markdown",
   "id": "8130ff35",
   "metadata": {},
   "source": [
    "\n",
    "# **Line Plot:**\n",
    "   - **Use Case:** Line plots are ideal for visualizing trends, changes, and relationships in data over a continuous or sequential range, such as time.\n",
    "   - **Example:** Tracking the monthly average temperature in a city over a year. The x-axis represents the months, and the y-axis shows the temperature values. This allows you to observe the temperature fluctuations over time.\n",
    "\n"
   ]
  },
  {
   "cell_type": "markdown",
   "id": "bf6c101a",
   "metadata": {},
   "source": [
    "# **Bar Chart:**\n",
    "   - **Use Case:** Bar charts are excellent for comparing discrete categories or groups, often used for displaying data in a categorical manner.\n",
    "   - **Example:** Comparing the sales performance of different car models in a showroom. Each car model is a separate category on the x-axis, and the height of the bars represents the number of units sold.\n"
   ]
  },
  {
   "cell_type": "markdown",
   "id": "71fb7c4b",
   "metadata": {},
   "source": [
    "\n",
    "# **Scatter Plot:**\n",
    "   - **Use Case:** Scatter plots are used to visualize the relationship or correlation between two continuous variables. They're useful for identifying patterns or outliers.\n",
    "   - **Example:** Plotting the scores of students on a math test against their scores on a science test. Each point on the scatter plot represents an individual student, and you can assess if there's a correlation between math and science performance.\n",
    "\n"
   ]
  },
  {
   "cell_type": "markdown",
   "id": "890f1ab2",
   "metadata": {},
   "source": [
    "\n",
    "\n",
    "# **Box Plot:**\n",
    "   - **Use Case:** Box plots are used to show the distribution of data, including central tendency, spread, and potential outliers.\n",
    "   - **Example:** Visualizing the distribution of ages in a population. The box plot will display the median age, quartiles, and any age values that are outliers, helping you understand the age distribution more effectively.\n",
    "\n"
   ]
  },
  {
   "cell_type": "markdown",
   "id": "bda4a572",
   "metadata": {},
   "source": [
    "\n",
    "# **Colormaps:**\n",
    "   - **Use Case:** Colormaps are used to represent data on a 2D surface, often used in heatmaps, geographical maps, and image processing, where data values are mapped to colors.\n",
    "   - **Example:** Displaying temperature variations across a map, where different colors indicate different temperature ranges. This allows you to see temperature patterns geographically.\n",
    "\n"
   ]
  },
  {
   "cell_type": "markdown",
   "id": "454e24cf",
   "metadata": {},
   "source": [
    "\n",
    "# **KDE Plot (Kernel Density Estimation):**\n",
    "   - **Use Case:** KDE plots are used to estimate the probability density function of a continuous variable, providing insights into the data distribution.\n",
    "   - **Example:** Analyzing the distribution of employee salaries within a company. A KDE plot will show the likelihood of different salary levels, revealing if there are salary \"peaks\" and variations.\n",
    "\n"
   ]
  },
  {
   "cell_type": "code",
   "execution_count": null,
   "id": "2e128e7e",
   "metadata": {},
   "outputs": [],
   "source": []
  }
 ],
 "metadata": {
  "kernelspec": {
   "display_name": "Python 3 (ipykernel)",
   "language": "python",
   "name": "python3"
  },
  "language_info": {
   "codemirror_mode": {
    "name": "ipython",
    "version": 3
   },
   "file_extension": ".py",
   "mimetype": "text/x-python",
   "name": "python",
   "nbconvert_exporter": "python",
   "pygments_lexer": "ipython3",
   "version": "3.10.12"
  }
 },
 "nbformat": 4,
 "nbformat_minor": 5
}
